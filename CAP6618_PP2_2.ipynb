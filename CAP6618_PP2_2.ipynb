{
 "cells": [
  {
   "cell_type": "markdown",
   "metadata": {},
   "source": [
    "## Starter Code"
   ]
  },
  {
   "cell_type": "code",
   "execution_count": 1,
   "metadata": {},
   "outputs": [],
   "source": [
    "# From Geron \n",
    "\n",
    "# To support both python 2 and python 3\n",
    "from __future__ import division, print_function, unicode_literals\n",
    "\n",
    "# Common imports\n",
    "import numpy as np\n",
    "import os\n",
    "\n",
    "# Standard library\n",
    "import random\n",
    "\n",
    "# to make this notebook's output stable across runs\n",
    "np.random.seed(42)\n",
    "\n",
    "# To plot pretty figures\n",
    "%matplotlib inline\n",
    "import matplotlib\n",
    "import matplotlib.pyplot as plt\n",
    "plt.rcParams['axes.labelsize'] = 14\n",
    "plt.rcParams['xtick.labelsize'] = 12\n",
    "plt.rcParams['ytick.labelsize'] = 12\n",
    "\n",
    "# Where to save the figures\n",
    "PROJECT_ROOT_DIR = \".\"\n",
    "CHAPTER_ID = \"classification\"    "
   ]
  },
  {
   "cell_type": "code",
   "execution_count": 2,
   "metadata": {},
   "outputs": [],
   "source": [
    "# mnist_loader.py\n",
    "# I removed unnecessary code in order to simplify this file as much as possible.\n",
    "\n",
    "# Standard library\n",
    "import pickle\n",
    "import gzip\n",
    "\n",
    "# Third-party libraries\n",
    "import numpy as np\n",
    "\n",
    "def load_data():    \n",
    "    f = gzip.open('mnist.pkl.gz', 'rb')\n",
    "    training_data, validation_data, test_data = pickle.load(f, encoding=\"latin1\")\n",
    "    f.close()\n",
    "    return (training_data, validation_data, test_data)\n"
   ]
  },
  {
   "cell_type": "markdown",
   "metadata": {},
   "source": [
    "## Best Solution"
   ]
  },
  {
   "cell_type": "code",
   "execution_count": 3,
   "metadata": {},
   "outputs": [],
   "source": [
    "# Load data. validation_data is not used...it should probably be combined with the training_data in order \n",
    "# to improve training.\n",
    "\n",
    "training_data, validation_data, test_data = load_data()\n",
    "\n",
    "training_data_X = training_data[0]\n",
    "training_data_y = training_data[1]\n",
    "\n",
    "test_data_X = test_data[0]\n",
    "test_data_y = test_data[1]"
   ]
  },
  {
   "cell_type": "code",
   "execution_count": 4,
   "metadata": {},
   "outputs": [],
   "source": [
    "from sklearn.neural_network import MLPClassifier\n",
    "from sklearn.model_selection import cross_val_score\n",
    "from sklearn.model_selection import cross_val_predict\n",
    "from sklearn.metrics import confusion_matrix"
   ]
  },
  {
   "cell_type": "code",
   "execution_count": 5,
   "metadata": {},
   "outputs": [
    {
     "data": {
      "text/plain": [
       "array([0.92810066, 0.94779478, 0.95434064])"
      ]
     },
     "execution_count": 5,
     "metadata": {},
     "output_type": "execute_result"
    }
   ],
   "source": [
    "epochs = 100\n",
    "mini_batch_size = 20\n",
    "eta = 0.3\n",
    "\n",
    "mlp = MLPClassifier(hidden_layer_sizes=(50,), max_iter=epochs, batch_size=mini_batch_size, learning_rate_init=eta, activation='logistic', solver='sgd')\n",
    "mlp.fit(training_data_X, training_data_y)\n",
    "\n",
    "cross_val_score(mlp, test_data_X, test_data_y, cv=3, scoring=\"accuracy\")"
   ]
  },
  {
   "cell_type": "code",
   "execution_count": 6,
   "metadata": {},
   "outputs": [
    {
     "data": {
      "text/plain": [
       "array([[ 958,    0,    0,    3,    0,    5,    5,    4,    4,    1],\n",
       "       [   0, 1113,    4,    4,    0,    3,    3,    3,    5,    0],\n",
       "       [  10,    0,  961,    5,   19,    1,    6,   16,   14,    0],\n",
       "       [   3,    0,   12,  927,    0,   29,    0,    9,   19,   11],\n",
       "       [   1,    1,    3,    0,  932,    2,    7,    2,    6,   28],\n",
       "       [  10,    5,    1,   17,    9,  812,   18,    3,    9,    8],\n",
       "       [  10,    3,    7,    1,    9,    7,  914,    1,    6,    0],\n",
       "       [   2,    6,   21,    1,    9,    1,    1,  974,    1,   12],\n",
       "       [   6,    4,   12,    8,    6,   10,    7,    5,  913,    3],\n",
       "       [   6,    5,    1,   13,   38,   11,    1,   17,    2,  915]],\n",
       "      dtype=int64)"
      ]
     },
     "execution_count": 6,
     "metadata": {},
     "output_type": "execute_result"
    }
   ],
   "source": [
    "predictions = cross_val_predict(mlp, test_data_X, test_data_y, cv=3)\n",
    "conf_mx = confusion_matrix(test_data_y, predictions)\n",
    "conf_mx"
   ]
  },
  {
   "cell_type": "code",
   "execution_count": 7,
   "metadata": {},
   "outputs": [
    {
     "data": {
      "image/png": "[encoded data removed]",
      "text/plain": [
       "<Figure size 288x288 with 1 Axes>"
      ]
     },
     "metadata": {
      "needs_background": "light"
     },
     "output_type": "display_data"
    }
   ],
   "source": [
    "plt.matshow(conf_mx, cmap=plt.cm.gray)\n",
    "plt.show()"
   ]
  },
  {
   "cell_type": "code",
   "execution_count": 8,
   "metadata": {},
   "outputs": [
    {
     "name": "stdout",
     "output_type": "stream",
     "text": [
      "Precision:  0.941223703996467\n",
      "Recall:  0.9412340412952964\n"
     ]
    }
   ],
   "source": [
    "# Let's print precision and recall for both models\n",
    "\n",
    "from sklearn.metrics import precision_score, recall_score\n",
    "\n",
    "precision = precision_score(test_data_y, predictions, average='macro')\n",
    "recall = recall_score(test_data_y, predictions, average='macro')\n",
    "\n",
    "print(\"Precision: \",precision)\n",
    "print(\"Recall: \",recall)"
   ]
  }
 ],
 "metadata": {
  "kernelspec": {
   "display_name": "Python 3",
   "language": "python",
   "name": "python3"
  },
  "language_info": {
   "codemirror_mode": {
    "name": "ipython",
    "version": 3
   },
   "file_extension": ".py",
   "mimetype": "text/x-python",
   "name": "python",
   "nbconvert_exporter": "python",
   "pygments_lexer": "ipython3",
   "version": "3.6.8"
  }
 },
 "nbformat": 4,
 "nbformat_minor": 2
}
